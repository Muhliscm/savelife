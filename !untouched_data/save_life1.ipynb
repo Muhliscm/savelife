{
 "cells": [
  {
   "cell_type": "code",
   "execution_count": 1,
   "id": "065fd26e",
   "metadata": {},
   "outputs": [],
   "source": [
    "import pandas as pd\n"
   ]
  },
  {
   "cell_type": "code",
   "execution_count": 2,
   "id": "db4f28f9",
   "metadata": {},
   "outputs": [
    {
     "name": "stdout",
     "output_type": "stream",
     "text": [
      " Volume in drive C has no label.\n",
      " Volume Serial Number is 2240-1ABF\n",
      "\n",
      " Directory of C:\\Users\\Habi\\Desktop\\savelife foundation\\Ambulance Traumacare\\data\n",
      "\n",
      "03/18/2022  02:05 PM    <DIR>          .\n",
      "03/18/2022  02:05 PM    <DIR>          ..\n",
      "03/18/2022  02:05 PM    <DIR>          .ipynb_checkpoints\n",
      "03/18/2022  11:32 AM        14,399,246 Ambulance_Trauma_Care_Data.xlsx\n",
      "03/18/2022  11:46 AM             8,714 New Microsoft Office Excel Worksheet.xlsx\n",
      "03/18/2022  02:05 PM                72 Untitled.ipynb\n",
      "               3 File(s)     14,408,032 bytes\n",
      "               3 Dir(s)  48,689,917,952 bytes free\n"
     ]
    }
   ],
   "source": [
    "ls"
   ]
  },
  {
   "cell_type": "code",
   "execution_count": 3,
   "id": "af8e4988",
   "metadata": {},
   "outputs": [],
   "source": [
    "df1 = pd.read_excel(\"Ambulance_Trauma_Care_Data.xlsx\", sheet_name = \"EVENTLOG\")"
   ]
  },
  {
   "cell_type": "code",
   "execution_count": 5,
   "id": "71656415",
   "metadata": {},
   "outputs": [
    {
     "data": {
      "text/plain": [
       "(156059, 9)"
      ]
     },
     "execution_count": 5,
     "metadata": {},
     "output_type": "execute_result"
    }
   ],
   "source": [
    "df1.shape"
   ]
  },
  {
   "cell_type": "code",
   "execution_count": 6,
   "id": "6999538c",
   "metadata": {},
   "outputs": [],
   "source": [
    "df2 = pd.read_excel(\"Ambulance_Trauma_Care_Data.xlsx\", sheet_name = \"RESPONSETIME\")"
   ]
  },
  {
   "cell_type": "code",
   "execution_count": 8,
   "id": "95b462e5",
   "metadata": {},
   "outputs": [
    {
     "data": {
      "text/plain": [
       "(61810, 17)"
      ]
     },
     "execution_count": 8,
     "metadata": {},
     "output_type": "execute_result"
    }
   ],
   "source": [
    "df2.shape"
   ]
  },
  {
   "cell_type": "code",
   "execution_count": 10,
   "id": "e58360b2",
   "metadata": {},
   "outputs": [],
   "source": [
    "df2.to_csv(\"responsetime.csv\")"
   ]
  },
  {
   "cell_type": "code",
   "execution_count": 11,
   "id": "0f266f71",
   "metadata": {},
   "outputs": [],
   "source": [
    "df1.to_csv(\"eventlog.csv\")"
   ]
  },
  {
   "cell_type": "code",
   "execution_count": 12,
   "id": "6063c79b",
   "metadata": {},
   "outputs": [
    {
     "name": "stdout",
     "output_type": "stream",
     "text": [
      " Volume in drive C has no label.\n",
      " Volume Serial Number is 2240-1ABF\n",
      "\n",
      " Directory of C:\\Users\\Habi\\Desktop\\savelife foundation\\Ambulance Traumacare\\data\n",
      "\n",
      "03/18/2022  02:45 PM    <DIR>          .\n",
      "03/18/2022  02:45 PM    <DIR>          ..\n",
      "03/18/2022  02:05 PM    <DIR>          .ipynb_checkpoints\n",
      "03/18/2022  11:32 AM        14,399,246 Ambulance_Trauma_Care_Data.xlsx\n",
      "03/18/2022  02:45 PM        13,267,090 eventlog.csv\n",
      "03/18/2022  11:46 AM             8,714 New Microsoft Office Excel Worksheet.xlsx\n",
      "03/18/2022  02:44 PM        10,269,323 responsetime.csv\n",
      "03/18/2022  02:44 PM             2,860 Untitled.ipynb\n",
      "               5 File(s)     37,947,233 bytes\n",
      "               3 Dir(s)  48,656,580,608 bytes free\n"
     ]
    }
   ],
   "source": [
    "ls"
   ]
  },
  {
   "cell_type": "code",
   "execution_count": null,
   "id": "69d42b1b",
   "metadata": {},
   "outputs": [],
   "source": []
  }
 ],
 "metadata": {
  "kernelspec": {
   "display_name": "Python 3 (ipykernel)",
   "language": "python",
   "name": "python3"
  },
  "language_info": {
   "codemirror_mode": {
    "name": "ipython",
    "version": 3
   },
   "file_extension": ".py",
   "mimetype": "text/x-python",
   "name": "python",
   "nbconvert_exporter": "python",
   "pygments_lexer": "ipython3",
   "version": "3.9.7"
  }
 },
 "nbformat": 4,
 "nbformat_minor": 5
}
